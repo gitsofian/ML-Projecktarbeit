{
 "cells": [
  {
   "cell_type": "code",
   "execution_count": null,
   "metadata": {},
   "outputs": [],
   "source": []
  }
 ],
 "metadata": {
  "kernelspec": {
   "display_name": "Python 3.10.4 ('nlp-nl')",
   "language": "python",
   "name": "python3"
  },
  "language_info": {
   "name": "python",
   "version": "3.10.4"
  },
  "orig_nbformat": 4,
  "vscode": {
   "interpreter": {
    "hash": "0bb4607b1beb126cfdf0f946f72e4ff99181a217740835d79b8e018f766bc05e"
   }
  }
 },
 "nbformat": 4,
 "nbformat_minor": 2
}
